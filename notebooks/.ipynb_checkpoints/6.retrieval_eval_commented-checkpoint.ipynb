{
 "cells": [
  {
   "cell_type": "markdown",
   "metadata": {},
   "source": [
    "To evaluate the retriever accuracy (% match in top 5) on a dataset:\n",
    "\n",
    "`python scripts/retriever/eval.py /path/to/format/A/dataset.txt --model /path/to/model`"
   ]
  },
  {
   "cell_type": "code",
   "execution_count": null,
   "metadata": {},
   "outputs": [],
   "source": [
    "def has_answer(answer, doc_id, match):\n",
    "    \"\"\"Check if a document contains an answer string.\n",
    "\n",
    "    If `match` is string, token matching is done between the text and answer.\n",
    "    If `match` is regex, we search the whole text with the regex.\n",
    "    \"\"\"\n",
    "    global PROCESS_DB, PROCESS_TOK\n",
    "    text = PROCESS_DB.get_doc_text(doc_id)\n",
    "    text = utils.normalize(text)\n",
    "    if match == 'string':\n",
    "        # Answer is a list of possible strings\n",
    "        text = PROCESS_TOK.tokenize(text).words(uncased=True)\n",
    "        for single_answer in answer:   # for squad dev, it provide 3 answers, only need to match one of them \n",
    "            single_answer = utils.normalize(single_answer)\n",
    "            single_answer = PROCESS_TOK.tokenize(single_answer)\n",
    "            single_answer = single_answer.words(uncased=True)\n",
    "            for i in range(0, len(text) - len(single_answer) + 1):\n",
    "                if single_answer == text[i: i + len(single_answer)]:\n",
    "                    return True\n",
    "    elif match == 'regex':  # CuratedTrec-test are using regex as answers\n",
    "        # Answer is a regex\n",
    "        single_answer = utils.normalize(answer[0])\n",
    "        if regex_match(text, single_answer):\n",
    "            return True\n",
    "    return False"
   ]
  }
 ],
 "metadata": {
  "kernelspec": {
   "display_name": "Python 3",
   "language": "python",
   "name": "python3"
  },
  "language_info": {
   "codemirror_mode": {
    "name": "ipython",
    "version": 3
   },
   "file_extension": ".py",
   "mimetype": "text/x-python",
   "name": "python",
   "nbconvert_exporter": "python",
   "pygments_lexer": "ipython3",
   "version": "3.6.4"
  },
  "toc": {
   "base_numbering": 1,
   "nav_menu": {},
   "number_sections": true,
   "sideBar": true,
   "skip_h1_title": false,
   "title_cell": "Table of Contents",
   "title_sidebar": "Contents",
   "toc_cell": false,
   "toc_position": {},
   "toc_section_display": true,
   "toc_window_display": false
  },
  "varInspector": {
   "cols": {
    "lenName": 16,
    "lenType": 16,
    "lenVar": 40
   },
   "kernels_config": {
    "python": {
     "delete_cmd_postfix": "",
     "delete_cmd_prefix": "del ",
     "library": "var_list.py",
     "varRefreshCmd": "print(var_dic_list())"
    },
    "r": {
     "delete_cmd_postfix": ") ",
     "delete_cmd_prefix": "rm(",
     "library": "var_list.r",
     "varRefreshCmd": "cat(var_dic_list()) "
    }
   },
   "types_to_exclude": [
    "module",
    "function",
    "builtin_function_or_method",
    "instance",
    "_Feature"
   ],
   "window_display": false
  }
 },
 "nbformat": 4,
 "nbformat_minor": 2
}
