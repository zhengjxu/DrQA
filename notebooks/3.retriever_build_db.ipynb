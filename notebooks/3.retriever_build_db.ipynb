{
 "cells": [
  {
   "cell_type": "code",
   "execution_count": null,
   "metadata": {},
   "outputs": [],
   "source": [
    "import sys\n",
    "sys.path.append(\"../\")"
   ]
  },
  {
   "cell_type": "markdown",
   "metadata": {},
   "source": [
    "## store contents to sqlite db"
   ]
  },
  {
   "cell_type": "code",
   "execution_count": 5,
   "metadata": {
    "ExecuteTime": {
     "end_time": "2019-03-11T20:35:17.080667Z",
     "start_time": "2019-03-11T20:35:17.077785Z"
    }
   },
   "outputs": [],
   "source": [
    "from scripts.retriever.build_db import *\n",
    "import json"
   ]
  },
  {
   "cell_type": "code",
   "execution_count": 10,
   "metadata": {
    "ExecuteTime": {
     "end_time": "2019-03-11T20:39:31.449740Z",
     "start_time": "2019-03-11T20:39:31.447133Z"
    }
   },
   "outputs": [],
   "source": [
    "data_path = \"/Users/zhengjiexu/Desktop/DrQA/data/jay_test/test_docs.txt\"\n",
    "save_path = \"/Users/zhengjiexu/Desktop/DrQA/data/jay_test/test_docs.db\""
   ]
  },
  {
   "cell_type": "code",
   "execution_count": 13,
   "metadata": {
    "ExecuteTime": {
     "end_time": "2019-03-11T20:40:45.883911Z",
     "start_time": "2019-03-11T20:40:45.878368Z"
    }
   },
   "outputs": [
    {
     "name": "stdout",
     "output_type": "stream",
     "text": [
      "{'id': 'cat', 'text': 'The cat (Felis catus) is a small carnivorous mammal.[1][2] It is the only domesticated species in the family Felidae and often referred to as the domestic cat to distinguish it from wild members of the family.'}\n",
      "{'id': 'dog', 'text': 'The domestic dog (Canis lupus familiaris when considered a subspecies of the wolf or Canis familiaris when considered a distinct species)[4] is a member of the genus Canis (canines), which forms part of the wolf-like canids,[5] and is the most widely abundant terrestrial carnivore.'}\n",
      "{'id': 'car', 'text': 'A car (or automobile) is a wheeled motor vehicle used for transportation.'}\n",
      "{'id': 'robot', 'text': 'A robot is a machine—especially one programmable by a computer— capable of carrying out a complex series of actions automatically.'}\n"
     ]
    }
   ],
   "source": [
    "# look at data\n",
    "with open(data_path) as f:\n",
    "    for line in f:\n",
    "        print(json.loads(line))"
   ]
  },
  {
   "cell_type": "code",
   "execution_count": 15,
   "metadata": {
    "ExecuteTime": {
     "end_time": "2019-03-11T20:40:57.176881Z",
     "start_time": "2019-03-11T20:40:57.117793Z"
    }
   },
   "outputs": [
    {
     "name": "stderr",
     "output_type": "stream",
     "text": [
      "03/11/2019 01:40:57 PM: [ Reading into database... ]\n",
      "  0%|          | 0/1 [00:00<?, ?it/s]\n",
      "0it [00:00, ?it/s]\u001b[A\n",
      "100%|██████████| 1/1 [00:00<00:00, 127.10it/s]\n",
      "03/11/2019 01:40:57 PM: [ Read 4 docs. ]\n",
      "03/11/2019 01:40:57 PM: [ Committing... ]\n"
     ]
    }
   ],
   "source": [
    "# store docs into sqlite db\n",
    "store_contents(data_path, save_path, preprocess=None)"
   ]
  },
  {
   "cell_type": "markdown",
   "metadata": {},
   "source": [
    "## look at db"
   ]
  },
  {
   "cell_type": "code",
   "execution_count": 16,
   "metadata": {
    "ExecuteTime": {
     "end_time": "2019-03-11T20:41:59.671643Z",
     "start_time": "2019-03-11T20:41:59.668554Z"
    }
   },
   "outputs": [],
   "source": [
    "from drqa.retriever.doc_db import *"
   ]
  },
  {
   "cell_type": "code",
   "execution_count": 17,
   "metadata": {
    "ExecuteTime": {
     "end_time": "2019-03-11T20:42:11.202906Z",
     "start_time": "2019-03-11T20:42:11.199731Z"
    }
   },
   "outputs": [],
   "source": [
    "db = DocDB(save_path)"
   ]
  },
  {
   "cell_type": "code",
   "execution_count": 18,
   "metadata": {
    "ExecuteTime": {
     "end_time": "2019-03-11T20:42:24.284190Z",
     "start_time": "2019-03-11T20:42:24.273322Z"
    }
   },
   "outputs": [
    {
     "data": {
      "text/plain": [
       "['car', 'cat', 'dog', 'robot']"
      ]
     },
     "execution_count": 18,
     "metadata": {},
     "output_type": "execute_result"
    }
   ],
   "source": [
    "# get doc ids\n",
    "doc_ids = db.get_doc_ids()\n",
    "doc_ids"
   ]
  },
  {
   "cell_type": "code",
   "execution_count": 19,
   "metadata": {
    "ExecuteTime": {
     "end_time": "2019-03-11T20:43:14.001683Z",
     "start_time": "2019-03-11T20:43:13.998892Z"
    }
   },
   "outputs": [],
   "source": [
    "cursor = db.connection.cursor()"
   ]
  },
  {
   "cell_type": "code",
   "execution_count": 20,
   "metadata": {
    "ExecuteTime": {
     "end_time": "2019-03-11T20:43:17.174539Z",
     "start_time": "2019-03-11T20:43:17.171428Z"
    }
   },
   "outputs": [],
   "source": [
    "cursor.execute('SELECT * FROM documents LIMIT 3')\n",
    "result = cursor.fetchall()"
   ]
  },
  {
   "cell_type": "code",
   "execution_count": 21,
   "metadata": {
    "ExecuteTime": {
     "end_time": "2019-03-11T20:43:18.570659Z",
     "start_time": "2019-03-11T20:43:18.566392Z"
    }
   },
   "outputs": [
    {
     "data": {
      "text/plain": [
       "[('cat',\n",
       "  'The cat (Felis catus) is a small carnivorous mammal.[1][2] It is the only domesticated species in the family Felidae and often referred to as the domestic cat to distinguish it from wild members of the family.'),\n",
       " ('dog',\n",
       "  'The domestic dog (Canis lupus familiaris when considered a subspecies of the wolf or Canis familiaris when considered a distinct species)[4] is a member of the genus Canis (canines), which forms part of the wolf-like canids,[5] and is the most widely abundant terrestrial carnivore.'),\n",
       " ('car',\n",
       "  'A car (or automobile) is a wheeled motor vehicle used for transportation.')]"
      ]
     },
     "execution_count": 21,
     "metadata": {},
     "output_type": "execute_result"
    }
   ],
   "source": [
    "result"
   ]
  },
  {
   "cell_type": "code",
   "execution_count": null,
   "metadata": {},
   "outputs": [],
   "source": []
  }
 ],
 "metadata": {
  "kernelspec": {
   "display_name": "Python 3",
   "language": "python",
   "name": "python3"
  },
  "language_info": {
   "codemirror_mode": {
    "name": "ipython",
    "version": 3
   },
   "file_extension": ".py",
   "mimetype": "text/x-python",
   "name": "python",
   "nbconvert_exporter": "python",
   "pygments_lexer": "ipython3",
   "version": "3.6.4"
  },
  "toc": {
   "base_numbering": 1,
   "nav_menu": {},
   "number_sections": true,
   "sideBar": true,
   "skip_h1_title": false,
   "title_cell": "Table of Contents",
   "title_sidebar": "Contents",
   "toc_cell": false,
   "toc_position": {},
   "toc_section_display": true,
   "toc_window_display": false
  },
  "varInspector": {
   "cols": {
    "lenName": 16,
    "lenType": 16,
    "lenVar": 40
   },
   "kernels_config": {
    "python": {
     "delete_cmd_postfix": "",
     "delete_cmd_prefix": "del ",
     "library": "var_list.py",
     "varRefreshCmd": "print(var_dic_list())"
    },
    "r": {
     "delete_cmd_postfix": ") ",
     "delete_cmd_prefix": "rm(",
     "library": "var_list.r",
     "varRefreshCmd": "cat(var_dic_list()) "
    }
   },
   "types_to_exclude": [
    "module",
    "function",
    "builtin_function_or_method",
    "instance",
    "_Feature"
   ],
   "window_display": false
  }
 },
 "nbformat": 4,
 "nbformat_minor": 2
}
