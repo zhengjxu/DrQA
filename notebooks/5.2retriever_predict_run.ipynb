{
 "cells": [
  {
   "cell_type": "code",
   "execution_count": null,
   "metadata": {},
   "outputs": [],
   "source": [
    "import sys\n",
    "sys.path.append('../')"
   ]
  },
  {
   "cell_type": "code",
   "execution_count": 2,
   "metadata": {
    "ExecuteTime": {
     "end_time": "2019-03-12T22:34:52.657567Z",
     "start_time": "2019-03-12T22:34:52.654887Z"
    }
   },
   "outputs": [],
   "source": [
    "import prettytable\n",
    "import logging\n",
    "from drqa import retriever"
   ]
  },
  {
   "cell_type": "code",
   "execution_count": 3,
   "metadata": {
    "ExecuteTime": {
     "end_time": "2019-03-12T22:34:54.345208Z",
     "start_time": "2019-03-12T22:34:54.341658Z"
    }
   },
   "outputs": [],
   "source": [
    "logger = logging.getLogger()\n",
    "logger.setLevel(logging.INFO)\n",
    "fmt = logging.Formatter('%(asctime)s: [ %(message)s ]', '%m/%d/%Y %I:%M:%S %p')\n",
    "console = logging.StreamHandler()\n",
    "console.setFormatter(fmt)\n",
    "logger.addHandler(console)"
   ]
  },
  {
   "cell_type": "code",
   "execution_count": 4,
   "metadata": {
    "ExecuteTime": {
     "end_time": "2019-03-12T22:34:54.750719Z",
     "start_time": "2019-03-12T22:34:54.747984Z"
    }
   },
   "outputs": [],
   "source": [
    "model_path = '/Users/zhengjiexu/Desktop/DrQA/data/wikipedia/docs-tfidf-ngram=2-hash=16777216-tokenizer=simple.npz'\n",
    "\n"
   ]
  },
  {
   "cell_type": "code",
   "execution_count": 5,
   "metadata": {
    "ExecuteTime": {
     "end_time": "2019-03-12T22:35:39.570504Z",
     "start_time": "2019-03-12T22:34:58.324784Z"
    }
   },
   "outputs": [
    {
     "name": "stderr",
     "output_type": "stream",
     "text": [
      "03/12/2019 03:34:58 PM: [ Loading /Users/zhengjiexu/Desktop/DrQA/data/wikipedia/docs-tfidf-ngram=2-hash=16777216-tokenizer=simple.npz ]\n",
      "03/12/2019 03:34:58 PM: [ Loading /Users/zhengjiexu/Desktop/DrQA/data/wikipedia/docs-tfidf-ngram=2-hash=16777216-tokenizer=simple.npz ]\n"
     ]
    }
   ],
   "source": [
    "ranker = retriever.get_class('tfidf')(tfidf_path=model_path)"
   ]
  },
  {
   "cell_type": "code",
   "execution_count": 6,
   "metadata": {
    "ExecuteTime": {
     "end_time": "2019-03-12T22:35:41.283880Z",
     "start_time": "2019-03-12T22:35:41.278709Z"
    }
   },
   "outputs": [],
   "source": [
    "def process(query, k=1):\n",
    "    doc_names, doc_scores = ranker.closest_docs(query, k)\n",
    "    table = prettytable.PrettyTable(\n",
    "        ['Rank', 'Doc Id', 'Doc Score']\n",
    "    )\n",
    "    for i in range(len(doc_names)):\n",
    "        table.add_row([i + 1, doc_names[i], '%.5g' % doc_scores[i]])\n",
    "    print(table)"
   ]
  },
  {
   "cell_type": "code",
   "execution_count": 15,
   "metadata": {
    "ExecuteTime": {
     "end_time": "2019-03-12T22:36:27.137724Z",
     "start_time": "2019-03-12T22:36:27.135030Z"
    }
   },
   "outputs": [],
   "source": [
    "query = 'Who is Xi JingPing'"
   ]
  },
  {
   "cell_type": "code",
   "execution_count": 17,
   "metadata": {
    "ExecuteTime": {
     "end_time": "2019-03-12T22:36:41.362302Z",
     "start_time": "2019-03-12T22:36:41.332998Z"
    }
   },
   "outputs": [
    {
     "name": "stdout",
     "output_type": "stream",
     "text": [
      "+------+----------------------------------+-----------+\n",
      "| Rank |              Doc Id              | Doc Score |\n",
      "+------+----------------------------------+-----------+\n",
      "|  1   |         5th BRICS summit         |   165.59  |\n",
      "|  2   |      China–Kenya relations       |   165.59  |\n",
      "|  3   |             Anita Lo             |   165.59  |\n",
      "|  4   |      Expressways of Beijing      |   131.86  |\n",
      "|  5   |       Jingping Expressway        |   131.86  |\n",
      "|  6   |          Wang Jingping           |   131.86  |\n",
      "|  7   |            Xi Jinping            |   109.69  |\n",
      "|  8   | Mesoamerican Long Count calendar |   104.49  |\n",
      "|  9   |          Lan Yu (film)           |   104.49  |\n",
      "|  10  |              Xi'an               |   102.55  |\n",
      "+------+----------------------------------+-----------+\n"
     ]
    }
   ],
   "source": [
    "process(query, k=10)"
   ]
  },
  {
   "cell_type": "code",
   "execution_count": null,
   "metadata": {},
   "outputs": [],
   "source": []
  }
 ],
 "metadata": {
  "kernelspec": {
   "display_name": "Python 3",
   "language": "python",
   "name": "python3"
  },
  "language_info": {
   "codemirror_mode": {
    "name": "ipython",
    "version": 3
   },
   "file_extension": ".py",
   "mimetype": "text/x-python",
   "name": "python",
   "nbconvert_exporter": "python",
   "pygments_lexer": "ipython3",
   "version": "3.6.4"
  },
  "toc": {
   "base_numbering": 1,
   "nav_menu": {},
   "number_sections": true,
   "sideBar": true,
   "skip_h1_title": false,
   "title_cell": "Table of Contents",
   "title_sidebar": "Contents",
   "toc_cell": false,
   "toc_position": {},
   "toc_section_display": true,
   "toc_window_display": false
  },
  "varInspector": {
   "cols": {
    "lenName": 16,
    "lenType": 16,
    "lenVar": 40
   },
   "kernels_config": {
    "python": {
     "delete_cmd_postfix": "",
     "delete_cmd_prefix": "del ",
     "library": "var_list.py",
     "varRefreshCmd": "print(var_dic_list())"
    },
    "r": {
     "delete_cmd_postfix": ") ",
     "delete_cmd_prefix": "rm(",
     "library": "var_list.r",
     "varRefreshCmd": "cat(var_dic_list()) "
    }
   },
   "types_to_exclude": [
    "module",
    "function",
    "builtin_function_or_method",
    "instance",
    "_Feature"
   ],
   "window_display": false
  }
 },
 "nbformat": 4,
 "nbformat_minor": 2
}
